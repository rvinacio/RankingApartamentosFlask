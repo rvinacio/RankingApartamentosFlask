{
 "cells": [
  {
   "cell_type": "code",
   "execution_count": 122,
   "metadata": {},
   "outputs": [],
   "source": [
    "import pandas as pd\n",
    "from IPython.display import display"
   ]
  },
  {
   "cell_type": "code",
   "execution_count": 123,
   "metadata": {},
   "outputs": [],
   "source": [
    "# Carregar os dados dos apartamentos a partir de um arquivo CSV\n",
    "df_apartamentos = pd.read_csv('apartamentos.csv')\n",
    "\n",
    "df_imoveis_pontuados = pd.read_csv('lista_de_imoveis_pontuados.csv')\n",
    "\n",
    "# \n",
    "df_apartamentos.columns = df_apartamentos.columns.str.strip()\n",
    "df_imoveis_pontuados.columns = df_imoveis_pontuados.columns.str.strip()\n",
    "\n",
    "# Aplicar strip para cada coluna que contenha strings\n",
    "df_apartamentos = df_apartamentos.apply(lambda col: col.map(lambda x: x.strip() if isinstance(x, str) else x))\n",
    "\n",
    "# Filtrar apenas os novos imóveis\n",
    "novos_imoveis = ~df_apartamentos['Fonte (site)'].isin(df_imoveis_pontuados['Fonte (site)'])\n",
    "df_apartamentos = df_apartamentos[novos_imoveis]\n",
    "\n",
    "# # Exibindo o DataFrame original\n",
    "# display(df_apartamentos)"
   ]
  },
  {
   "cell_type": "code",
   "execution_count": 124,
   "metadata": {},
   "outputs": [],
   "source": [
    "# Importando a biblioteca geopy para buscar coordenadas de um bairro\n",
    "from geopy.geocoders import Nominatim\n",
    "\n",
    "geolocator = Nominatim(user_agent=\"geoapi\")\n",
    "\n",
    "# Função para buscar coordenadas de um bairro\n",
    "def buscar_coordenadas(bairro):\n",
    "    location = geolocator.geocode(bairro + \", São Paulo, Brazil\")\n",
    "    if location:\n",
    "        return (location.latitude, location.longitude)\n",
    "    else:\n",
    "        return None\n",
    "\n",
    "\n",
    "# Strip espaços extras dos nomes das colunas\n",
    "\n",
    "\n",
    "df_apartamentos['LatLong Imovel'] = df_apartamentos['Bairro'].apply(buscar_coordenadas)\n",
    "\n",
    "\n",
    "\n",
    "# # Exibindo o DataFrame com as coordenadas\n",
    "# display(df_apartamentos)"
   ]
  },
  {
   "cell_type": "code",
   "execution_count": 125,
   "metadata": {},
   "outputs": [],
   "source": [
    "# Importando a biblioteca geopy para calcular a distância entre dois pontos \n",
    "from geopy.distance import geodesic\n",
    "\n",
    "def calcular_distancia_robusta(linha):\n",
    "    coords_trabalho = (-23.6842, -46.6802)\n",
    "    localizacao = linha['LatLong Imovel']\n",
    "\n",
    "    if pd.notnull(localizacao):\n",
    "        return geodesic(localizacao, coords_trabalho).km\n",
    "    else:\n",
    "        return None\n",
    "    \n",
    "df_apartamentos['Distância Interlagos (km)'] = df_apartamentos.apply(calcular_distancia_robusta, axis=1)\n",
    "\n",
    "# Exibindo o DataFrame com as distâncias\n",
    "# display(df_apartamentos)\n"
   ]
  },
  {
   "cell_type": "code",
   "execution_count": 126,
   "metadata": {},
   "outputs": [],
   "source": [
    "# Função para calcular a pontuação com as regras\n",
    "def calcular_pontuacao_atualizada(apartamento):\n",
    "    # Critério 1: Preço Total (30%)\n",
    "    if apartamento[\"Valor Total Mensal (R$)\"] < 4500:\n",
    "        pontos_preco = 10 + ((4500 - apartamento[\"Valor Total Mensal (R$)\"]) // 100) * 10\n",
    "    elif apartamento[\"Valor Total Mensal (R$)\"] > 4500:\n",
    "        pontos_preco = -((apartamento[\"Valor Total Mensal (R$)\"] - 4500) // 200) * 10\n",
    "    else:\n",
    "        pontos_preco = 0\n",
    "\n",
    "    # Critério 2: Distância até Interlagos (20%)\n",
    "    if apartamento[\"Distância Interlagos (km)\"] < 15:\n",
    "        pontos_distancia = 5 + ((15 - apartamento[\"Distância Interlagos (km)\"]) // 2) * 5\n",
    "    else:\n",
    "        pontos_distancia = -(apartamento[\"Distância Interlagos (km)\"] - 15) // 2 * 5\n",
    "\n",
    "    # Critério 3: Número de Quartos (parte de 10%)\n",
    "    pontos_quartos = (apartamento[\"Quartos\"] - 2) * 5 if apartamento[\"Quartos\"] > 2 else 0\n",
    "\n",
    "    # Critério 4: Banheiros (parte de 10%)\n",
    "    pontos_banheiros = (apartamento[\"Banheiros\"] - 2) * 3 if apartamento[\"Banheiros\"] > 2 else 0\n",
    "\n",
    "    # Critério 5: Vagas (parte de 8%)\n",
    "    pontos_vagas = apartamento[\"Vagas\"] * 2 if apartamento[\"Vagas\"] > 0 else 0\n",
    "\n",
    "    # Critério 6: Área do Apartamento (10%)\n",
    "    if apartamento[\"Área (m²)\"] >= 75:\n",
    "        pontos_area = 1 + ((apartamento[\"Área (m²)\"] - 75) // 10) * 2\n",
    "    else:\n",
    "        pontos_area = -1 - ((75 - apartamento[\"Área (m²)\"]) // 10) * 2\n",
    "\n",
    "    # Critério 7: Facilidades (5%)\n",
    "    num_facilidades = len(apartamento[\"Facilidades\"].split(\", \"))\n",
    "    pontos_facilidades = 2 * num_facilidades\n",
    "\n",
    "    # Critério 8: Fonte (7%)\n",
    "    # Converter a coluna 'Imobiliária' para minúsculo antes de processar\n",
    "    df_apartamentos['Imobiliária'] = df_apartamentos['Imobiliária'].str.lower()\n",
    "\n",
    "    pontos_fonte = 10 if \"quintoandar\" in apartamento[\"Imobiliária\"].lower() else 0\n",
    "    \n",
    "    # Calculando a pontuação total (aplicando os pesos)\n",
    "    pontuacao_total = (\n",
    "        (pontos_preco * 0.3) +\n",
    "        (pontos_distancia * 0.2) +\n",
    "        (pontos_quartos * 0.1) +\n",
    "        (pontos_banheiros * 0.1) +\n",
    "        (pontos_vagas * 0.08) +\n",
    "        (pontos_area * 0.1) +\n",
    "        (pontos_facilidades * 0.05) +\n",
    "        (pontos_fonte * 0.07)\n",
    "    )\n",
    "    \n",
    "    return {\n",
    "        \"Pontos Preço\": pontos_preco,\n",
    "        \"Pontos Distância\": pontos_distancia,\n",
    "        \"Pontos Quartos\": pontos_quartos,\n",
    "        \"Pontos Banheiros\": pontos_banheiros,\n",
    "        \"Pontos Vagas\": pontos_vagas,\n",
    "        \"Pontos Área\": pontos_area,\n",
    "        \"Pontos Facilidades\": pontos_facilidades,\n",
    "        \"Pontos Fonte\": pontos_fonte,\n",
    "        \"Pontuação Total\": pontuacao_total\n",
    "    }\n"
   ]
  },
  {
   "cell_type": "code",
   "execution_count": 127,
   "metadata": {},
   "outputs": [],
   "source": [
    "# Aplicando a função de pontuação atualizada para cada apartamento\n",
    "df_pontuacao = df_apartamentos.apply(calcular_pontuacao_atualizada, axis=1, result_type=\"expand\")\n",
    "\n",
    "# Combinando a planilha original com a de pontuação\n",
    "df_apartamentos_pontuacao = pd.concat([df_pontuacao, df_apartamentos], axis=1)\n",
    "\n",
    "# Ordenando a planilha pela pontuação total (maior para menor) e colocando a coluna \"Pontuação Total\" no início\n",
    "df_apartamentos_pontuacao = df_apartamentos_pontuacao.sort_values(by=\"Pontuação Total\", ascending=False).reset_index(drop=True)\n",
    "df_apartamentos_pontuacao = df_apartamentos_pontuacao[[\"Pontuação Total\"] + [col for col in df_apartamentos_pontuacao.columns if col != \"Pontuação Total\"]]\n",
    "\n",
    "# Exibindo as primeiras linhas do DataFrame com as pontuações\n",
    "#df_apartamentos_pontuacao.head()"
   ]
  },
  {
   "cell_type": "code",
   "execution_count": 128,
   "metadata": {},
   "outputs": [],
   "source": [
    "# Salvando a planilha atualizada\n",
    "df_apartamentos_pontuacao.to_csv('lista_de_imoveis_pontuados.csv', index=False)"
   ]
  },
  {
   "cell_type": "code",
   "execution_count": 129,
   "metadata": {},
   "outputs": [],
   "source": [
    "ranking_apartamentos = df_apartamentos_pontuacao.sort_values(by='Pontuação Total', ascending=False)[['Pontuação Total','Nome/Endereço', 'Valor Total Mensal (R$)', 'Bairro','Fonte (site)','Código']]\n",
    "\n",
    "# Adicionando a coluna de rank\n",
    "ranking_apartamentos['Rank'] = range(1, len(ranking_apartamentos) + 1)\n",
    "\n",
    "ranking_apartamentos.to_csv('/Users/rafaelinacio/projects/ranking_alugar_casa/data/ranking_apartamentos.csv', index=False)\n"
   ]
  },
  {
   "cell_type": "code",
   "execution_count": 130,
   "metadata": {},
   "outputs": [],
   "source": [
    "# Criar um DataFrame vazio com as colunas desejadas\n",
    "#colunas = ['Pontuação Total', 'Nome/Endereço', 'Valor Total Mensal (R$)', 'Bairro', 'Fonte (site)', 'Código']\n",
    "#df_vazio = pd.DataFrame(columns=colunas)\n",
    "\n",
    "# Salvar o DataFrame vazio como um arquivo CSV\n",
    "#df_vazio.to_csv('/Users/rafaelinacio/projects/ranking_alugar_casa/data/apartamentos_desconsiderados.csv', index=False)"
   ]
  },
  {
   "cell_type": "code",
   "execution_count": 131,
   "metadata": {},
   "outputs": [],
   "source": [
    "# # Aplicar strip para cada coluna que contenha strings\n",
    "# teste_csv = pd.read_csv('updated_apartamentos.csv')\n",
    "\n",
    "# strip_csv = teste_csv.apply(lambda col: col.map(lambda x: x.strip() if isinstance(x, str) else x))\n",
    "\n",
    "# strip_csv.to_csv('registros_ok.csv', index=False)"
   ]
  }
 ],
 "metadata": {
  "kernelspec": {
   "display_name": "base",
   "language": "python",
   "name": "python3"
  },
  "language_info": {
   "codemirror_mode": {
    "name": "ipython",
    "version": 3
   },
   "file_extension": ".py",
   "mimetype": "text/x-python",
   "name": "python",
   "nbconvert_exporter": "python",
   "pygments_lexer": "ipython3",
   "version": "3.10.14"
  }
 },
 "nbformat": 4,
 "nbformat_minor": 2
}
